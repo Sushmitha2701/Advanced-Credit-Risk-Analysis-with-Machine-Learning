{
 "cells": [
  {
   "cell_type": "markdown",
   "metadata": {},
   "source": [
    "# Credit Risk Analysis - MSc Research\n",
    "\n",
    "**Author:** Sushmita Singh  \n",
    "**Institution:** Queen Mary University of London  \n",
    "**Program:** MSc Data Analytics  \n",
    "\n",
    "## Key Results\n",
    "- SVM: 81.85% accuracy\n",
    "- Neural Network: 81.38% accuracy  \n",
    "- Random Forest: 80.72% accuracy"
   ]
  }
 ],
 "metadata": {
  "kernelspec": {
   "display_name": "Python 3",
   "language": "python",
   "name": "python3"
  }
 },
 "nbformat": 4,
 "nbformat_minor": 4
}
